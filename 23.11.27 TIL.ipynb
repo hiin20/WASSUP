{
 "cells": [
  {
   "cell_type": "markdown",
   "id": "18bb67b3",
   "metadata": {},
   "source": [
    "# 파이썬 딕셔너리 81~100"
   ]
  },
  {
   "cell_type": "markdown",
   "id": "8b94a14e",
   "metadata": {},
   "source": [
    "## 81~83 별 표현식"
   ]
  },
  {
   "cell_type": "markdown",
   "id": "677deba0",
   "metadata": {},
   "source": [
    "81. 다음과 같이 10개의 값이 저장된 scores 리스트가 있을 때, \n",
    "start expression을 사용하여 좌측 8개의 값을 valid_score 변수에 바인딩하여라."
   ]
  },
  {
   "cell_type": "code",
   "execution_count": 16,
   "id": "27878be5",
   "metadata": {},
   "outputs": [],
   "source": [
    "scores = [8.8, 8.9, 8.7, 9.2, 9.3, 9.7, 9.9, 9.5, 7.8, 9.4]"
   ]
  },
  {
   "cell_type": "code",
   "execution_count": 18,
   "id": "643ed56a",
   "metadata": {},
   "outputs": [],
   "source": [
    "*a, b, c= scores"
   ]
  },
  {
   "cell_type": "code",
   "execution_count": 19,
   "id": "d6507e7c",
   "metadata": {},
   "outputs": [
    {
     "data": {
      "text/plain": [
       "[8.8, 8.9, 8.7, 9.2, 9.3, 9.7, 9.9, 9.5]"
      ]
     },
     "execution_count": 19,
     "metadata": {},
     "output_type": "execute_result"
    }
   ],
   "source": [
    "a"
   ]
  },
  {
   "cell_type": "code",
   "execution_count": 20,
   "id": "b4ab9d06",
   "metadata": {},
   "outputs": [],
   "source": [
    "a = valid_score"
   ]
  },
  {
   "cell_type": "code",
   "execution_count": 21,
   "id": "bdc58710",
   "metadata": {},
   "outputs": [
    {
     "data": {
      "text/plain": [
       "[8.8, 8.9, 8.7, 9.2, 9.3, 9.7, 9.9, 9.5, 7.8]"
      ]
     },
     "execution_count": 21,
     "metadata": {},
     "output_type": "execute_result"
    }
   ],
   "source": [
    "valid_score"
   ]
  },
  {
   "cell_type": "markdown",
   "id": "388be9c5",
   "metadata": {},
   "source": [
    "82. 다음과 같이 10개의 값이 저장된 scores 리스트가 있을 때, start expression을 사용하여 우측 8개의 값을 valid_score 변수에 바인딩하여라."
   ]
  },
  {
   "cell_type": "code",
   "execution_count": 22,
   "id": "942574e6",
   "metadata": {},
   "outputs": [],
   "source": [
    "scores = [8.8, 8.9, 8.7, 9.2, 9.3, 9.7, 9.9, 9.5, 7.8, 9.4]\n"
   ]
  },
  {
   "cell_type": "code",
   "execution_count": 23,
   "id": "d53b7b9f",
   "metadata": {},
   "outputs": [
    {
     "name": "stdout",
     "output_type": "stream",
     "text": [
      "[8.7, 9.2, 9.3, 9.7, 9.9, 9.5, 7.8, 9.4]\n"
     ]
    }
   ],
   "source": [
    "a, b, *valid_score = scores\n",
    "print(valid_score)"
   ]
  },
  {
   "cell_type": "markdown",
   "id": "d2b1b710",
   "metadata": {},
   "source": [
    "83. 다음과 같이 10개의 값이 저장된 scores 리스트가 있을 때, start expression을 사용하여 가운데 있는 8개의 값을 valid_score 변수에 바인딩하여라."
   ]
  },
  {
   "cell_type": "code",
   "execution_count": 24,
   "id": "e400381d",
   "metadata": {},
   "outputs": [],
   "source": [
    "scores = [8.8, 8.9, 8.7, 9.2, 9.3, 9.7, 9.9, 9.5, 7.8, 9.4]"
   ]
  },
  {
   "cell_type": "code",
   "execution_count": 25,
   "id": "49f2f750",
   "metadata": {},
   "outputs": [
    {
     "name": "stdout",
     "output_type": "stream",
     "text": [
      "[8.9, 8.7, 9.2, 9.3, 9.7, 9.9, 9.5, 7.8]\n"
     ]
    }
   ],
   "source": [
    "a, *valid_score, b = scores\n",
    "print(valid_score)"
   ]
  },
  {
   "cell_type": "markdown",
   "id": "38c7574b",
   "metadata": {},
   "source": [
    "## 84~90 비어있는 딕셔너리"
   ]
  },
  {
   "cell_type": "markdown",
   "id": "fdc6fc3a",
   "metadata": {},
   "source": [
    "84. temp 이름의 비어있는 딕셔너리를 만들라."
   ]
  },
  {
   "cell_type": "code",
   "execution_count": 26,
   "id": "37d3fe37",
   "metadata": {},
   "outputs": [],
   "source": [
    "temp = {}"
   ]
  },
  {
   "cell_type": "code",
   "execution_count": 27,
   "id": "bc02c8c0",
   "metadata": {},
   "outputs": [
    {
     "name": "stdout",
     "output_type": "stream",
     "text": [
      "{}\n"
     ]
    }
   ],
   "source": [
    "print(temp)"
   ]
  },
  {
   "cell_type": "markdown",
   "id": "8de28660",
   "metadata": {},
   "source": [
    "85. 다음 아이스크림 이름과 희망 가격을 딕셔너리로 구성하라.\n",
    "\n",
    "이름\t희망 가격\n",
    "메로나\t1000\n",
    "폴라포\t1200\n",
    "빵빠레\t1800"
   ]
  },
  {
   "cell_type": "code",
   "execution_count": 31,
   "id": "38c1df6a",
   "metadata": {},
   "outputs": [
    {
     "name": "stdout",
     "output_type": "stream",
     "text": [
      "{'메로나': 1000, '폴라포': 1200, '빵빠레': 1800}\n"
     ]
    }
   ],
   "source": [
    "a = {\"메로나\" : 1000, \"폴라포\" : 1200, \"빵빠레\" : 1800}\n",
    "print(a)"
   ]
  },
  {
   "cell_type": "markdown",
   "id": "3ac3d90f",
   "metadata": {},
   "source": [
    "86. 85번의 딕셔너리에 아래 아이스크림 가격정보를 추가하라.\n",
    "\n",
    "이름\t희망 가격\n",
    "죠스바\t1200\n",
    "월드콘\t1500"
   ]
  },
  {
   "cell_type": "code",
   "execution_count": 32,
   "id": "58fc06bf",
   "metadata": {},
   "outputs": [
    {
     "name": "stdout",
     "output_type": "stream",
     "text": [
      "{'메로나': 1000, '폴라포': 1200, '빵빠레': 1800, '죠스바': 1200, '월드콘': 1500}\n"
     ]
    }
   ],
   "source": [
    "a[\"죠스바\"] = 1200\n",
    "a[\"월드콘\"] = 1500\n",
    "print(a)"
   ]
  },
  {
   "cell_type": "markdown",
   "id": "de284913",
   "metadata": {},
   "source": [
    "87. 다음 딕셔너리를 사용하여 메로나 가격을 출력하라.\n",
    "\n",
    "ice = {'메로나': 1000,\n",
    "       '폴로포': 1200,\n",
    "       '빵빠레': 1800,\n",
    "       '죠스바': 1200,\n",
    "       '월드콘': 1500}\n",
    "       \n",
    "실행 예:\n",
    "메로나 가격: 1000"
   ]
  },
  {
   "cell_type": "code",
   "execution_count": 33,
   "id": "6167969b",
   "metadata": {},
   "outputs": [
    {
     "data": {
      "text/plain": [
       "1000"
      ]
     },
     "execution_count": 33,
     "metadata": {},
     "output_type": "execute_result"
    }
   ],
   "source": [
    "a['메로나']"
   ]
  },
  {
   "cell_type": "code",
   "execution_count": 34,
   "id": "684fc4aa",
   "metadata": {},
   "outputs": [
    {
     "name": "stdout",
     "output_type": "stream",
     "text": [
      "메로나 가격:  1000\n"
     ]
    }
   ],
   "source": [
    "print(\"메로나 가격: \", a['메로나'])"
   ]
  },
  {
   "cell_type": "markdown",
   "id": "0e007a97",
   "metadata": {},
   "source": [
    "88. 다음 딕셔너리에서 메로나의 가격을 1300으로 수정하라."
   ]
  },
  {
   "cell_type": "code",
   "execution_count": 37,
   "id": "b3bfebeb",
   "metadata": {},
   "outputs": [
    {
     "name": "stdout",
     "output_type": "stream",
     "text": [
      "{'폴라포': 1200, '빵빠레': 1800, '죠스바': 1200, '월드콘': 1500, '메로나': 1300}\n"
     ]
    }
   ],
   "source": [
    "del a['메로나']\n",
    "a['메로나'] = 1300\n",
    "print(a)"
   ]
  },
  {
   "cell_type": "code",
   "execution_count": 39,
   "id": "30ca14e1",
   "metadata": {},
   "outputs": [
    {
     "data": {
      "text/plain": [
       "{'폴라포': 1200, '빵빠레': 1800, '죠스바': 1200, '월드콘': 1500, '메로나': 1000}"
      ]
     },
     "execution_count": 39,
     "metadata": {},
     "output_type": "execute_result"
    }
   ],
   "source": [
    "a[\"메로나\"] = 1000\n",
    "a"
   ]
  },
  {
   "cell_type": "code",
   "execution_count": 40,
   "id": "6ef1c643",
   "metadata": {},
   "outputs": [
    {
     "data": {
      "text/plain": [
       "{'폴라포': 1200, '빵빠레': 1800, '죠스바': 1200, '월드콘': 1500, '메로나': 1300}"
      ]
     },
     "execution_count": 40,
     "metadata": {},
     "output_type": "execute_result"
    }
   ],
   "source": [
    "a[\"메로나\"] = 1300\n",
    "a"
   ]
  },
  {
   "cell_type": "markdown",
   "id": "ef15329e",
   "metadata": {},
   "source": [
    "89. 다음 딕셔너리에서 메로나를 삭제하라."
   ]
  },
  {
   "cell_type": "code",
   "execution_count": 41,
   "id": "8c4aa843",
   "metadata": {},
   "outputs": [],
   "source": [
    "ice = {'메로나': 1000,\n",
    "       '폴로포': 1200,\n",
    "       '빵빠레': 1800,\n",
    "       '죠스바': 1200,\n",
    "       '월드콘': 1500}"
   ]
  },
  {
   "cell_type": "code",
   "execution_count": 42,
   "id": "55741ed5",
   "metadata": {},
   "outputs": [
    {
     "data": {
      "text/plain": [
       "{'폴로포': 1200, '빵빠레': 1800, '죠스바': 1200, '월드콘': 1500}"
      ]
     },
     "execution_count": 42,
     "metadata": {},
     "output_type": "execute_result"
    }
   ],
   "source": [
    "del ice[\"메로나\"]\n",
    "ice"
   ]
  },
  {
   "cell_type": "markdown",
   "id": "0790a94e",
   "metadata": {},
   "source": [
    "90. 다음 코드에서 에러가 발생한 원인을 설명하라.\n",
    "\n",
    "icecream = {'폴라포': 1200, '빵빠레': 1800, '월드콘': 1500, '메로나': 1000}\n",
    "\n",
    "icecream['누가바']\n",
    "\n",
    "Traceback (most recent call last):\n",
    "\n",
    "    File \"<pyshell#69>\", line 1, in <module>\n",
    "\n",
    "    icecream['누가바']\n",
    "\n",
    "KeyError: '누가바'"
   ]
  },
  {
   "cell_type": "markdown",
   "id": "b0284da4",
   "metadata": {},
   "source": [
    "딕셔너리에 누가바라는 키가 없기 때문에!!!"
   ]
  },
  {
   "cell_type": "markdown",
   "id": "1228b1e6",
   "metadata": {},
   "source": [
    "## 91 딕셔너리 생성\n",
    "\n",
    "아래의 표에서, 아이스크림 이름을 키값으로, (가격, 재고) 리스트를 딕셔너리의 값으로 저장하라. 딕셔너리의 이름은 inventory로 한다.\n",
    "\n",
    "이름\t가격\t재고\n",
    "메로나\t300\t20\n",
    "비비빅\t400\t3\n",
    "죠스바\t250\t100"
   ]
  },
  {
   "cell_type": "code",
   "execution_count": 47,
   "id": "06c4f58f",
   "metadata": {},
   "outputs": [
    {
     "name": "stdout",
     "output_type": "stream",
     "text": [
      "{'메로나': [300, 20], '비비빅': [400, 3], '죠스바': [250, 100]}\n"
     ]
    }
   ],
   "source": [
    "inventory = {\"메로나\" : [300, 20], \"비비빅\" : [400, 3], \"죠스바\" : [250, 100]}\n",
    "print(inventory)"
   ]
  },
  {
   "cell_type": "markdown",
   "id": "37179550",
   "metadata": {},
   "source": [
    "92 딕셔너리 인덱싱\n",
    "\n",
    "inventory 딕셔너리에서 메로나의 가격을 화면에 출력하라.\n",
    "\n",
    "실행 예시:\n",
    "300 원"
   ]
  },
  {
   "cell_type": "code",
   "execution_count": 55,
   "id": "e16f0866",
   "metadata": {},
   "outputs": [
    {
     "name": "stdout",
     "output_type": "stream",
     "text": [
      "300 원\n"
     ]
    }
   ],
   "source": [
    "inventory = {\"메로나\" : [300, 20], \"비비빅\" : [400, 3], \"죠스바\" : [250, 100]}\n",
    "print(inventory[\"메로나\"][0], \"원\")"
   ]
  },
  {
   "cell_type": "code",
   "execution_count": 56,
   "id": "2ff5102f",
   "metadata": {},
   "outputs": [
    {
     "name": "stdout",
     "output_type": "stream",
     "text": [
      "20 개\n"
     ]
    }
   ],
   "source": [
    "print(inventory[\"메로나\"][1], \"개\")"
   ]
  },
  {
   "cell_type": "markdown",
   "id": "4c821c71",
   "metadata": {},
   "source": [
    "92번까지 하면서 느낀 점.\n",
    "\n",
    "찾아가면서는 할 수 있지만 지금 자료형에 대해서 먼저 이해가 안되어 있는 것 같다는 생각이 든다.\n",
    "다 외울수는 없지만 {}, (), []에 따른 구분 등 더 기본으로 돌아가서 다시 빠르게 이해 후 따라가보자\n"
   ]
  },
  {
   "cell_type": "code",
   "execution_count": null,
   "id": "0931c90e",
   "metadata": {},
   "outputs": [],
   "source": []
  },
  {
   "cell_type": "code",
   "execution_count": null,
   "id": "3f019010",
   "metadata": {},
   "outputs": [],
   "source": []
  },
  {
   "cell_type": "code",
   "execution_count": null,
   "id": "2bd5f735",
   "metadata": {},
   "outputs": [],
   "source": []
  }
 ],
 "metadata": {
  "kernelspec": {
   "display_name": "Python 3 (ipykernel)",
   "language": "python",
   "name": "python3"
  },
  "language_info": {
   "codemirror_mode": {
    "name": "ipython",
    "version": 3
   },
   "file_extension": ".py",
   "mimetype": "text/x-python",
   "name": "python",
   "nbconvert_exporter": "python",
   "pygments_lexer": "ipython3",
   "version": "3.11.5"
  },
  "toc": {
   "base_numbering": 1,
   "nav_menu": {},
   "number_sections": true,
   "sideBar": true,
   "skip_h1_title": false,
   "title_cell": "Table of Contents",
   "title_sidebar": "Contents",
   "toc_cell": false,
   "toc_position": {},
   "toc_section_display": true,
   "toc_window_display": false
  }
 },
 "nbformat": 4,
 "nbformat_minor": 5
}
