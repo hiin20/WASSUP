{
 "cells": [
  {
   "cell_type": "markdown",
   "id": "ce8e2462",
   "metadata": {},
   "source": [
    "# [DAY18] - 23.11.20 MY SQL실습 \n",
    "## : Lev.1 -  [조건에 부합하는 중고거래 댓글 조회하기](https://school.programmers.co.kr/learn/courses/30/lessons/164673)"
   ]
  },
  {
   "cell_type": "markdown",
   "id": "f58e205f",
   "metadata": {},
   "source": [
    "**TABLES**"
   ]
  },
  {
   "cell_type": "markdown",
   "id": "9ab09c2b",
   "metadata": {},
   "source": [
    "중고거래 게시판 정보를 담은 테이블\n",
    ">**USED_GOODS_BOARD**\n",
    ">\n",
    ">- BOARD_ID : 게시글 ID\n",
    ">- WRITER_ID : 작성자 ID\n",
    ">- TITLE : 게시글 제목\n",
    ">- CONTENTS : 게시글 내용\n",
    ">- PRICE : 가격\n",
    ">- CREATED_DATE : 작성일\n",
    ">- STATUS : 거래상태\n",
    ">- VIEWS : 조회수"
   ]
  },
  {
   "cell_type": "markdown",
   "id": "9c1a8c61",
   "metadata": {},
   "source": [
    "중고거래 게시판 첨부파일 정보를 담은 테이블\n",
    ">**USED_GOODS_REPLY**\n",
    ">\n",
    ">- REPLY_ID : 댓글 ID\n",
    ">- BOARD_ID : 게시글 ID\n",
    ">- WRITER_ID : 작성자 ID\n",
    ">- CONTENTS : 댓글 내용\n",
    ">- CREATED_DATE 작성일"
   ]
  },
  {
   "cell_type": "markdown",
   "id": "9195da0f",
   "metadata": {},
   "source": [
    "**문제**"
   ]
  },
  {
   "cell_type": "markdown",
   "id": "7d7b0f4b",
   "metadata": {},
   "source": [
    ">USED_GOODS_BOARD와 USED_GOODS_REPLY 테이블에서 **2022년 10월에 작성**된 게시글 제목, **게시글 ID, 댓글 ID, 댓글 작성자 ID, 댓글 내용, 댓글 작성일을 조회하는 SQL문을 작성**해주세요.\n",
    "결과는 **댓글 작성일을 기준으로 오름차순 정렬**해주시고,\n",
    "**댓글 작성일이 같다면 게시글 제목을 기준으로 오름차순 정렬**해주세요."
   ]
  },
  {
   "cell_type": "markdown",
   "id": "bbe4dede",
   "metadata": {},
   "source": [
    "**1차 나의 명령문**"
   ]
  },
  {
   "cell_type": "code",
   "execution_count": 31,
   "id": "ab4c8d01",
   "metadata": {},
   "outputs": [
    {
     "ename": "SyntaxError",
     "evalue": "invalid syntax (1865897652.py, line 1)",
     "output_type": "error",
     "traceback": [
      "\u001b[1;36m  Cell \u001b[1;32mIn[31], line 1\u001b[1;36m\u001b[0m\n\u001b[1;33m    ```sql\u001b[0m\n\u001b[1;37m    ^\u001b[0m\n\u001b[1;31mSyntaxError\u001b[0m\u001b[1;31m:\u001b[0m invalid syntax\n"
     ]
    }
   ],
   "source": [
    "```sql\n",
    "SELECT\n",
    "USED_GOODS_BOARD.TITLE,\n",
    "USED_GOODS_BOARD.BOARD_ID,\n",
    "USED_GOODS_REPLY.REPLY_ID,\n",
    "USED_GOODS_REPLY.WRITER_ID,\n",
    "USED_GOODS_REPLY.CONTENTS,\n",
    "DATE_FORMAT(USED_GOODS_BOARD.CREATED_DATE, '%Y-%m-%d') AS CREATED_DATE\n",
    "FROM\n",
    "USED_GOODS_BOARD\n",
    "LEFT OUTER JOIN\n",
    "USED_GOODS_REPLY\n",
    "ON\n",
    "DATE(USED_GOODS_BOARD.CREATED_DATE) = DATE(USED_GOODS_REPLY.CREATED_DATE)\n",
    "WHERE\n",
    "DATE(USED_GOODS_BOARD.CREATED_DATE) LIKE '2022-10%'\n",
    "ORDER BY\n",
    "CREATED_DATE ASC, USED_GOODS_BOARD.TITLE ASC;\n",
    "```"
   ]
  },
  {
   "cell_type": "markdown",
   "id": "a41f84ac",
   "metadata": {},
   "source": []
  },
  {
   "cell_type": "markdown",
   "id": "1b469f67",
   "metadata": {},
   "source": []
  },
  {
   "cell_type": "markdown",
   "id": "5553f737",
   "metadata": {},
   "source": []
  },
  {
   "cell_type": "markdown",
   "id": "7750cb3e",
   "metadata": {},
   "source": []
  },
  {
   "cell_type": "markdown",
   "id": "fc81686d",
   "metadata": {},
   "source": []
  },
  {
   "cell_type": "markdown",
   "id": "f4a64c1a",
   "metadata": {},
   "source": []
  },
  {
   "cell_type": "markdown",
   "id": "00d67fb6",
   "metadata": {},
   "source": []
  },
  {
   "cell_type": "code",
   "execution_count": null,
   "id": "94434bd6",
   "metadata": {},
   "outputs": [],
   "source": []
  },
  {
   "cell_type": "code",
   "execution_count": null,
   "id": "326fef76",
   "metadata": {},
   "outputs": [],
   "source": []
  },
  {
   "cell_type": "code",
   "execution_count": null,
   "id": "07dde697",
   "metadata": {},
   "outputs": [],
   "source": []
  },
  {
   "cell_type": "code",
   "execution_count": null,
   "id": "f66c7902",
   "metadata": {},
   "outputs": [],
   "source": []
  }
 ],
 "metadata": {
  "kernelspec": {
   "display_name": "Python 3 (ipykernel)",
   "language": "python",
   "name": "python3"
  },
  "language_info": {
   "codemirror_mode": {
    "name": "ipython",
    "version": 3
   },
   "file_extension": ".py",
   "mimetype": "text/x-python",
   "name": "python",
   "nbconvert_exporter": "python",
   "pygments_lexer": "ipython3",
   "version": "3.11.5"
  },
  "toc": {
   "base_numbering": 1,
   "nav_menu": {},
   "number_sections": true,
   "sideBar": true,
   "skip_h1_title": false,
   "title_cell": "Table of Contents",
   "title_sidebar": "Contents",
   "toc_cell": false,
   "toc_position": {},
   "toc_section_display": true,
   "toc_window_display": false
  }
 },
 "nbformat": 4,
 "nbformat_minor": 5
}
